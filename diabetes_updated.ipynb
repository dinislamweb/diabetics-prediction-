{
 "cells": [
  {
   "cell_type": "code",
   "execution_count": 3,
   "id": "97b3a4b2",
   "metadata": {},
   "outputs": [],
   "source": [
    "# import necessary library\n",
    "import pandas as pd # Pandas for data manipulation and analysis using tables (DataFrames)\n",
    "import numpy as np # Numpy for numerical computing and efficient array operations.\n",
    "import matplotlib.pyplot as plt #matplotlib.pyplot: Used to create a wide range of basic visualizations\n",
    "import seaborn as sns # seaborn: Advance visualizations for statistics.\n",
    "import warnings as wr\n",
    "wr.filterwarnings(\"ignore\") # warnings: To handle unnecessary warnings"
   ]
  },
  {
   "cell_type": "code",
   "execution_count": 4,
   "id": "ab9ac80e",
   "metadata": {},
   "outputs": [],
   "source": [
    "# Load the dataset\n",
    "df = pd.read_csv(r\"C:\\Users\\Din islam\\Downloads\\diabetics-prediction-\\diabetes.csv\")"
   ]
  },
  {
   "cell_type": "code",
   "execution_count": null,
   "id": "cfd1f94b",
   "metadata": {},
   "outputs": [],
   "source": [
    "# Here, my dataset is in csv format. So, I used read_csv() function to  load the dataset"
   ]
  },
  {
   "cell_type": "code",
   "execution_count": 6,
   "id": "a16c8cd5",
   "metadata": {},
   "outputs": [
    {
     "data": {
      "text/html": [
       "<div>\n",
       "<style scoped>\n",
       "    .dataframe tbody tr th:only-of-type {\n",
       "        vertical-align: middle;\n",
       "    }\n",
       "\n",
       "    .dataframe tbody tr th {\n",
       "        vertical-align: top;\n",
       "    }\n",
       "\n",
       "    .dataframe thead th {\n",
       "        text-align: right;\n",
       "    }\n",
       "</style>\n",
       "<table border=\"1\" class=\"dataframe\">\n",
       "  <thead>\n",
       "    <tr style=\"text-align: right;\">\n",
       "      <th></th>\n",
       "      <th>Pregnancies</th>\n",
       "      <th>Glucose</th>\n",
       "      <th>BloodPressure</th>\n",
       "      <th>SkinThickness</th>\n",
       "      <th>Insulin</th>\n",
       "      <th>BMI</th>\n",
       "      <th>DiabetesPedigreeFunction</th>\n",
       "      <th>Age</th>\n",
       "      <th>Outcome</th>\n",
       "    </tr>\n",
       "  </thead>\n",
       "  <tbody>\n",
       "    <tr>\n",
       "      <th>0</th>\n",
       "      <td>6</td>\n",
       "      <td>148</td>\n",
       "      <td>72</td>\n",
       "      <td>35</td>\n",
       "      <td>0</td>\n",
       "      <td>33.6</td>\n",
       "      <td>0.627</td>\n",
       "      <td>50</td>\n",
       "      <td>1</td>\n",
       "    </tr>\n",
       "    <tr>\n",
       "      <th>1</th>\n",
       "      <td>1</td>\n",
       "      <td>85</td>\n",
       "      <td>66</td>\n",
       "      <td>29</td>\n",
       "      <td>0</td>\n",
       "      <td>26.6</td>\n",
       "      <td>0.351</td>\n",
       "      <td>31</td>\n",
       "      <td>0</td>\n",
       "    </tr>\n",
       "    <tr>\n",
       "      <th>2</th>\n",
       "      <td>8</td>\n",
       "      <td>183</td>\n",
       "      <td>64</td>\n",
       "      <td>0</td>\n",
       "      <td>0</td>\n",
       "      <td>23.3</td>\n",
       "      <td>0.672</td>\n",
       "      <td>32</td>\n",
       "      <td>1</td>\n",
       "    </tr>\n",
       "    <tr>\n",
       "      <th>3</th>\n",
       "      <td>1</td>\n",
       "      <td>89</td>\n",
       "      <td>66</td>\n",
       "      <td>23</td>\n",
       "      <td>94</td>\n",
       "      <td>28.1</td>\n",
       "      <td>0.167</td>\n",
       "      <td>21</td>\n",
       "      <td>0</td>\n",
       "    </tr>\n",
       "    <tr>\n",
       "      <th>4</th>\n",
       "      <td>0</td>\n",
       "      <td>137</td>\n",
       "      <td>40</td>\n",
       "      <td>35</td>\n",
       "      <td>168</td>\n",
       "      <td>43.1</td>\n",
       "      <td>2.288</td>\n",
       "      <td>33</td>\n",
       "      <td>1</td>\n",
       "    </tr>\n",
       "  </tbody>\n",
       "</table>\n",
       "</div>"
      ],
      "text/plain": [
       "   Pregnancies  Glucose  BloodPressure  SkinThickness  Insulin   BMI  \\\n",
       "0            6      148             72             35        0  33.6   \n",
       "1            1       85             66             29        0  26.6   \n",
       "2            8      183             64              0        0  23.3   \n",
       "3            1       89             66             23       94  28.1   \n",
       "4            0      137             40             35      168  43.1   \n",
       "\n",
       "   DiabetesPedigreeFunction  Age  Outcome  \n",
       "0                     0.627   50        1  \n",
       "1                     0.351   31        0  \n",
       "2                     0.672   32        1  \n",
       "3                     0.167   21        0  \n",
       "4                     2.288   33        1  "
      ]
     },
     "execution_count": 6,
     "metadata": {},
     "output_type": "execute_result"
    }
   ],
   "source": [
    "# To see the first 5 row from the dataset\n",
    "df.head(5)"
   ]
  },
  {
   "cell_type": "code",
   "execution_count": 5,
   "id": "a8f9c5eb",
   "metadata": {},
   "outputs": [
    {
     "data": {
      "text/plain": [
       "(768, 9)"
      ]
     },
     "execution_count": 5,
     "metadata": {},
     "output_type": "execute_result"
    }
   ],
   "source": [
    "# Checking the shape of the dataset to see how many rows and columns in the dataset\n",
    "df.shape"
   ]
  },
  {
   "cell_type": "markdown",
   "id": "f60db748",
   "metadata": {},
   "source": [
    "#### In this, dataset there are 768 rows and 9 columns"
   ]
  },
  {
   "cell_type": "markdown",
   "id": "4632c877",
   "metadata": {},
   "source": [
    "# - Data Preprocessing & Cleaning\n"
   ]
  },
  {
   "cell_type": "code",
   "execution_count": 7,
   "id": "03a91477",
   "metadata": {},
   "outputs": [
    {
     "name": "stdout",
     "output_type": "stream",
     "text": [
      "<class 'pandas.core.frame.DataFrame'>\n",
      "RangeIndex: 768 entries, 0 to 767\n",
      "Data columns (total 9 columns):\n",
      " #   Column                    Non-Null Count  Dtype  \n",
      "---  ------                    --------------  -----  \n",
      " 0   Pregnancies               768 non-null    int64  \n",
      " 1   Glucose                   768 non-null    int64  \n",
      " 2   BloodPressure             768 non-null    int64  \n",
      " 3   SkinThickness             768 non-null    int64  \n",
      " 4   Insulin                   768 non-null    int64  \n",
      " 5   BMI                       768 non-null    float64\n",
      " 6   DiabetesPedigreeFunction  768 non-null    float64\n",
      " 7   Age                       768 non-null    int64  \n",
      " 8   Outcome                   768 non-null    int64  \n",
      "dtypes: float64(2), int64(7)\n",
      "memory usage: 54.1 KB\n"
     ]
    }
   ],
   "source": [
    "### To know the overall information about the dataset\n",
    "df.info()"
   ]
  },
  {
   "cell_type": "markdown",
   "id": "05958693",
   "metadata": {},
   "source": [
    "### Here, in the dataset , there is no missing value at any feature and not categorical feature."
   ]
  },
  {
   "cell_type": "code",
   "execution_count": 8,
   "id": "d2aa41a7",
   "metadata": {},
   "outputs": [
    {
     "data": {
      "text/plain": [
       "Pregnancies                 0\n",
       "Glucose                     0\n",
       "BloodPressure               0\n",
       "SkinThickness               0\n",
       "Insulin                     0\n",
       "BMI                         0\n",
       "DiabetesPedigreeFunction    0\n",
       "Age                         0\n",
       "Outcome                     0\n",
       "dtype: int64"
      ]
     },
     "execution_count": 8,
     "metadata": {},
     "output_type": "execute_result"
    }
   ],
   "source": [
    "#Checking null value Present or not by using pandas\n",
    "df.isnull().sum()"
   ]
  },
  {
   "cell_type": "markdown",
   "id": "9b80010a",
   "metadata": {},
   "source": [
    "### df.isnull().sum() shows how many null value present in each feature"
   ]
  },
  {
   "cell_type": "code",
   "execution_count": 13,
   "id": "807e4184",
   "metadata": {},
   "outputs": [
    {
     "data": {
      "image/png": "[encoded data removed]",
      "text/plain": [
       "<Figure size 800x600 with 1 Axes>"
      ]
     },
     "metadata": {},
     "output_type": "display_data"
    }
   ],
   "source": [
    "# visualize the null value by using heatmap\n",
    "plt.figure(figsize=(8,6))\n",
    "sns.heatmap(df.isnull(), cbar=False, cmap=\"viridis\")\n",
    "plt.title(\"Missing Values Heatmap\")\n",
    "plt.show()\n"
   ]
  },
  {
   "cell_type": "code",
   "execution_count": 14,
   "id": "caa6265a",
   "metadata": {},
   "outputs": [
    {
     "name": "stdout",
     "output_type": "stream",
     "text": [
      "From the heatmap , we can clearly see that , there is no null value in the dataset\n"
     ]
    }
   ],
   "source": [
    "print(\"From the heatmap , we can clearly see that , there is no null value in the dataset\")"
   ]
  },
  {
   "cell_type": "code",
   "execution_count": 15,
   "id": "a3a296bf",
   "metadata": {},
   "outputs": [
    {
     "data": {
      "text/plain": [
       "np.int64(0)"
      ]
     },
     "execution_count": 15,
     "metadata": {},
     "output_type": "execute_result"
    }
   ],
   "source": [
    "# Checking duplicates \n",
    "df.duplicated().sum()"
   ]
  },
  {
   "cell_type": "markdown",
   "id": "cb1d98e9",
   "metadata": {},
   "source": [
    "## In this dataset, there is no duplicate value."
   ]
  },
  {
   "cell_type": "code",
   "execution_count": 16,
   "id": "5888fd0a",
   "metadata": {},
   "outputs": [
    {
     "name": "stdout",
     "output_type": "stream",
     "text": [
      "Pregnancies                   int64\n",
      "Glucose                       int64\n",
      "BloodPressure                 int64\n",
      "SkinThickness                 int64\n",
      "Insulin                       int64\n",
      "BMI                         float64\n",
      "DiabetesPedigreeFunction    float64\n",
      "Age                           int64\n",
      "Outcome                       int64\n",
      "dtype: object\n"
     ]
    }
   ],
   "source": [
    "# View data types of all columns\n",
    "print(df.dtypes)\n"
   ]
  },
  {
   "cell_type": "markdown",
   "id": "b77e09b1",
   "metadata": {},
   "source": [
    "# Exploratory Data Analysis"
   ]
  },
  {
   "cell_type": "code",
   "execution_count": 17,
   "id": "5b405c9d",
   "metadata": {},
   "outputs": [
    {
     "data": {
      "text/plain": [
       "Pregnancies\n",
       "1     135\n",
       "0     111\n",
       "2     103\n",
       "3      75\n",
       "4      68\n",
       "5      57\n",
       "6      50\n",
       "7      45\n",
       "8      38\n",
       "9      28\n",
       "10     24\n",
       "11     11\n",
       "13     10\n",
       "12      9\n",
       "14      2\n",
       "17      1\n",
       "15      1\n",
       "Name: count, dtype: int64"
      ]
     },
     "execution_count": 17,
     "metadata": {},
     "output_type": "execute_result"
    }
   ],
   "source": [
    "# Checking Pregnancies column insight and visualize\n",
    "df[\"Pregnancies\"].value_counts()"
   ]
  },
  {
   "cell_type": "code",
   "execution_count": 21,
   "id": "0955cc5b",
   "metadata": {},
   "outputs": [
    {
     "data": {
      "text/plain": [
       "17"
      ]
     },
     "execution_count": 21,
     "metadata": {},
     "output_type": "execute_result"
    }
   ],
   "source": [
    "# To see the how many unique value in pregnancies column\n",
    "df.Pregnancies.nunique()"
   ]
  },
  {
   "cell_type": "code",
   "execution_count": 20,
   "id": "1678b617",
   "metadata": {},
   "outputs": [
    {
     "data": {
      "text/plain": [
       "array([ 6,  1,  8,  0,  5,  3, 10,  2,  4,  7,  9, 11, 13, 15, 17, 12, 14])"
      ]
     },
     "execution_count": 20,
     "metadata": {},
     "output_type": "execute_result"
    }
   ],
   "source": [
    "# To see the unique value of the pregnancies columns\n",
    "df.Pregnancies.unique()"
   ]
  },
  {
   "cell_type": "code",
   "execution_count": 26,
   "id": "c1cb8dfb",
   "metadata": {},
   "outputs": [
    {
     "data": {
      "text/html": [
       "<div>\n",
       "<style scoped>\n",
       "    .dataframe tbody tr th:only-of-type {\n",
       "        vertical-align: middle;\n",
       "    }\n",
       "\n",
       "    .dataframe tbody tr th {\n",
       "        vertical-align: top;\n",
       "    }\n",
       "\n",
       "    .dataframe thead th {\n",
       "        text-align: right;\n",
       "    }\n",
       "</style>\n",
       "<table border=\"1\" class=\"dataframe\">\n",
       "  <thead>\n",
       "    <tr style=\"text-align: right;\">\n",
       "      <th></th>\n",
       "      <th>count</th>\n",
       "      <th>mean</th>\n",
       "      <th>std</th>\n",
       "      <th>min</th>\n",
       "      <th>25%</th>\n",
       "      <th>50%</th>\n",
       "      <th>75%</th>\n",
       "      <th>max</th>\n",
       "    </tr>\n",
       "    <tr>\n",
       "      <th>Outcome</th>\n",
       "      <th></th>\n",
       "      <th></th>\n",
       "      <th></th>\n",
       "      <th></th>\n",
       "      <th></th>\n",
       "      <th></th>\n",
       "      <th></th>\n",
       "      <th></th>\n",
       "    </tr>\n",
       "  </thead>\n",
       "  <tbody>\n",
       "    <tr>\n",
       "      <th>0</th>\n",
       "      <td>500.0</td>\n",
       "      <td>3.298000</td>\n",
       "      <td>3.017185</td>\n",
       "      <td>0.0</td>\n",
       "      <td>1.00</td>\n",
       "      <td>2.0</td>\n",
       "      <td>5.0</td>\n",
       "      <td>13.0</td>\n",
       "    </tr>\n",
       "    <tr>\n",
       "      <th>1</th>\n",
       "      <td>268.0</td>\n",
       "      <td>4.865672</td>\n",
       "      <td>3.741239</td>\n",
       "      <td>0.0</td>\n",
       "      <td>1.75</td>\n",
       "      <td>4.0</td>\n",
       "      <td>8.0</td>\n",
       "      <td>17.0</td>\n",
       "    </tr>\n",
       "  </tbody>\n",
       "</table>\n",
       "</div>"
      ],
      "text/plain": [
       "         count      mean       std  min   25%  50%  75%   max\n",
       "Outcome                                                      \n",
       "0        500.0  3.298000  3.017185  0.0  1.00  2.0  5.0  13.0\n",
       "1        268.0  4.865672  3.741239  0.0  1.75  4.0  8.0  17.0"
      ]
     },
     "execution_count": 26,
     "metadata": {},
     "output_type": "execute_result"
    }
   ],
   "source": [
    "df.groupby('Outcome')['Pregnancies'].describe()"
   ]
  },
  {
   "cell_type": "markdown",
   "id": "f8386cef",
   "metadata": {},
   "source": [
    "### By describing the pregnancies feature, I can say that, here 500 people who does not have diabetes and there min pregnancy 0 and maximum pregnancies 13.\n",
    "### And 268 people have diabetes and their minimum pregnancies 0 and maximum 17\n"
   ]
  },
  {
   "cell_type": "code",
   "execution_count": null,
   "id": "e9cfbff3",
   "metadata": {},
   "outputs": [
    {
     "data": {
      "image/png": "[encoded data removed]",
      "text/plain": [
       "<Figure size 640x480 with 1 Axes>"
      ]
     },
     "metadata": {},
     "output_type": "display_data"
    }
   ],
   "source": [
    "# Visulize the Pregnancies feature with Outcome by Stack bar plot\n",
    "pd.crosstab(df['Pregnancies'], df['Outcome']).plot(kind='bar', stacked=True)\n",
    "plt.xlabel('Number of Pregnancies')\n",
    "plt.ylabel('Number of People')\n",
    "plt.title('Distribution of Pregnancies Outcome')\n",
    "plt.legend(title='Outcome')\n",
    "plt.show()\n"
   ]
  },
  {
   "cell_type": "markdown",
   "id": "806a6598",
   "metadata": {},
   "source": [
    "### From the Stack Bar plot , I can understand that, in pregnancies 0,1,2 , there are less diabetes tendency,\n",
    "### As Pregnancies increases, diabetes also stat increasing.\n",
    "### When pregnancies is 7 - 9, number of diabetes patient is maximum. \n",
    "### So, I can wrap up to say that, more pregnancies causes more diabetes."
   ]
  },
  {
   "cell_type": "code",
   "execution_count": 31,
   "id": "75b74d2d",
   "metadata": {},
   "outputs": [
    {
     "data": {
      "text/html": [
       "<div>\n",
       "<style scoped>\n",
       "    .dataframe tbody tr th:only-of-type {\n",
       "        vertical-align: middle;\n",
       "    }\n",
       "\n",
       "    .dataframe tbody tr th {\n",
       "        vertical-align: top;\n",
       "    }\n",
       "\n",
       "    .dataframe thead th {\n",
       "        text-align: right;\n",
       "    }\n",
       "</style>\n",
       "<table border=\"1\" class=\"dataframe\">\n",
       "  <thead>\n",
       "    <tr style=\"text-align: right;\">\n",
       "      <th></th>\n",
       "      <th>count</th>\n",
       "      <th>mean</th>\n",
       "      <th>std</th>\n",
       "      <th>min</th>\n",
       "      <th>25%</th>\n",
       "      <th>50%</th>\n",
       "      <th>75%</th>\n",
       "      <th>max</th>\n",
       "    </tr>\n",
       "    <tr>\n",
       "      <th>Outcome</th>\n",
       "      <th></th>\n",
       "      <th></th>\n",
       "      <th></th>\n",
       "      <th></th>\n",
       "      <th></th>\n",
       "      <th></th>\n",
       "      <th></th>\n",
       "      <th></th>\n",
       "    </tr>\n",
       "  </thead>\n",
       "  <tbody>\n",
       "    <tr>\n",
       "      <th>0</th>\n",
       "      <td>500.0</td>\n",
       "      <td>109.980000</td>\n",
       "      <td>26.141200</td>\n",
       "      <td>0.0</td>\n",
       "      <td>93.0</td>\n",
       "      <td>107.0</td>\n",
       "      <td>125.0</td>\n",
       "      <td>197.0</td>\n",
       "    </tr>\n",
       "    <tr>\n",
       "      <th>1</th>\n",
       "      <td>268.0</td>\n",
       "      <td>141.257463</td>\n",
       "      <td>31.939622</td>\n",
       "      <td>0.0</td>\n",
       "      <td>119.0</td>\n",
       "      <td>140.0</td>\n",
       "      <td>167.0</td>\n",
       "      <td>199.0</td>\n",
       "    </tr>\n",
       "  </tbody>\n",
       "</table>\n",
       "</div>"
      ],
      "text/plain": [
       "         count        mean        std  min    25%    50%    75%    max\n",
       "Outcome                                                               \n",
       "0        500.0  109.980000  26.141200  0.0   93.0  107.0  125.0  197.0\n",
       "1        268.0  141.257463  31.939622  0.0  119.0  140.0  167.0  199.0"
      ]
     },
     "execution_count": 31,
     "metadata": {},
     "output_type": "execute_result"
    }
   ],
   "source": [
    "# Checking impact of glucose in diabetes\n",
    "df.groupby('Outcome')['Glucose'].describe()"
   ]
  },
  {
   "cell_type": "markdown",
   "id": "c7f17893",
   "metadata": {},
   "source": [
    "### In the description of Glucose and outcome, it can say that the non-diabetes people have average glocuse is 109.98 , minimum 0 and maximum 197.\n",
    "### And the diabetes people have average glocuse 141.25 , minimum 0 and maximum 199.\n"
   ]
  },
  {
   "cell_type": "code",
   "execution_count": null,
   "id": "14aba706",
   "metadata": {},
   "outputs": [
    {
     "data": {
      "image/png": "[encoded data removed]",
      "text/plain": [
       "<Figure size 640x480 with 1 Axes>"
      ]
     },
     "metadata": {},
     "output_type": "display_data"
    }
   ],
   "source": [
    "# Visualize the Glocuse and Outcome by histplot\n",
    "sns.histplot(data=df,x='Glucose',hue='Outcome',palette='Set2')\n",
    "plt.title(\"Glucose Vs Outcome\")\n",
    "plt.show()"
   ]
  },
  {
   "cell_type": "markdown",
   "id": "a2a96292",
   "metadata": {},
   "source": [
    "### From the hisplot, it's clearly seen that , the person who have glucose level is more than 150, are affected to diabetes."
   ]
  },
  {
   "cell_type": "code",
   "execution_count": 34,
   "id": "93680f22",
   "metadata": {},
   "outputs": [
    {
     "name": "stdout",
     "output_type": "stream",
     "text": [
      "\n",
      "Descriptive stats for BloodPressure by Outcome:\n",
      "         count       mean        std  min   25%   50%   75%    max\n",
      "Outcome                                                           \n",
      "0        500.0  68.184000  18.063075  0.0  62.0  70.0  78.0  122.0\n",
      "1        268.0  70.824627  21.491812  0.0  66.0  74.0  82.0  114.0\n",
      "\n",
      "Descriptive stats for SkinThickness by Outcome:\n",
      "         count       mean        std  min  25%   50%   75%   max\n",
      "Outcome                                                         \n",
      "0        500.0  19.664000  14.889947  0.0  0.0  21.0  31.0  60.0\n",
      "1        268.0  22.164179  17.679711  0.0  0.0  27.0  36.0  99.0\n",
      "\n",
      "Descriptive stats for Insulin by Outcome:\n",
      "         count        mean         std  min  25%   50%     75%    max\n",
      "Outcome                                                              \n",
      "0        500.0   68.792000   98.865289  0.0  0.0  39.0  105.00  744.0\n",
      "1        268.0  100.335821  138.689125  0.0  0.0   0.0  167.25  846.0\n"
     ]
    }
   ],
   "source": [
    "# Checking the impact of BloodPressure,SkinThickness,Insulin in diabetes\n",
    "bsi_des = ['BloodPressure', 'SkinThickness', 'Insulin']\n",
    "for i in bsi_des:\n",
    "    print(f\"\\nDescriptive stats for {i} by Outcome:\")\n",
    "    print(df.groupby('Outcome')[i].describe())"
   ]
  },
  {
   "cell_type": "markdown",
   "id": "d06e41d0",
   "metadata": {},
   "source": [
    "### The diabetes person have average 70.82mmHg bloodPressure with standard deviation 21.49 also maximum 114 and minimum 0 and the non diabetes person have average 68 mmHg bloodPressure with standard deviation 18.06 and maximum 122 and minumum 0.\n",
    "### The diabetes person's mean thickness is 22.16 with minimum thickness 0 and maximum thickness 99 also standard deviation 17.67 . On the other hand, the non-diabetes person mean thickness is 19.66 with  std 14.88 and minimum thickness is 0 and maximum 60.\n",
    "### In the Insulin feature, for non-diabetes person , mean insulin is 68.79 , std 98.86 , with maximum 774. Diabetes person's have mean 100.33 , std 138.68 , and maximum insulin 846.\n",
    "## That means in diabetes , the features have enough impact."
   ]
  },
  {
   "cell_type": "markdown",
   "id": "17435ed6",
   "metadata": {},
   "source": []
  }
 ],
 "metadata": {
  "kernelspec": {
   "display_name": ".venv",
   "language": "python",
   "name": "python3"
  },
  "language_info": {
   "codemirror_mode": {
    "name": "ipython",
    "version": 3
   },
   "file_extension": ".py",
   "mimetype": "text/x-python",
   "name": "python",
   "nbconvert_exporter": "python",
   "pygments_lexer": "ipython3",
   "version": "3.12.10"
  }
 },
 "nbformat": 4,
 "nbformat_minor": 5
}
