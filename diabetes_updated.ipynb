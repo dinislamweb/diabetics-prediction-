{
 "cells": [
  {
   "cell_type": "code",
   "execution_count": 3,
   "id": "97b3a4b2",
   "metadata": {},
   "outputs": [],
   "source": [
    "# import necessary library\n",
    "import pandas as pd # Pandas for data manipulation and analysis using tables (DataFrames)\n",
    "import numpy as np # Numpy for numerical computing and efficient array operations.\n",
    "import matplotlib.pyplot as plt #matplotlib.pyplot: Used to create a wide range of basic visualizations\n",
    "import seaborn as sns # seaborn: Advance visualizations for statistics.\n",
    "import warnings as wr\n",
    "wr.filterwarnings(\"ignore\") # warnings: To handle unnecessary warnings"
   ]
  },
  {
   "cell_type": "code",
   "execution_count": 4,
   "id": "ab9ac80e",
   "metadata": {},
   "outputs": [],
   "source": [
    "# Load the dataset\n",
    "df = pd.read_csv(r\"C:\\Users\\Din islam\\Downloads\\diabetics-prediction-\\diabetes.csv\")"
   ]
  },
  {
   "cell_type": "code",
   "execution_count": null,
   "id": "cfd1f94b",
   "metadata": {},
   "outputs": [],
   "source": [
    "# Here, my dataset is in csv format. So, I used read_csv() function to  load the dataset"
   ]
  }
 ],
 "metadata": {
  "kernelspec": {
   "display_name": ".venv",
   "language": "python",
   "name": "python3"
  },
  "language_info": {
   "codemirror_mode": {
    "name": "ipython",
    "version": 3
   },
   "file_extension": ".py",
   "mimetype": "text/x-python",
   "name": "python",
   "nbconvert_exporter": "python",
   "pygments_lexer": "ipython3",
   "version": "3.12.10"
  }
 },
 "nbformat": 4,
 "nbformat_minor": 5
}
